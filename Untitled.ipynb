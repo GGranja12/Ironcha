{
 "cells": [
  {
   "cell_type": "code",
   "execution_count": 1,
   "id": "cf19e937-063b-4f4f-8daa-0149cbcb8edd",
   "metadata": {},
   "outputs": [
    {
     "name": "stdout",
     "output_type": "stream",
     "text": [
      " \n",
      "We arrive in front of the house and all the suspects are there, waiting for us.\n",
      " \n",
      "I would suggest you write down some notes in your notebook. Here's what we know about them so far!\n",
      " \n",
      "Guilherme is 25 years old and was the assistant of Dr. Norbert Wiener. Neighbors usually spot him running every morning.\n",
      "Every two weeks, he enjoys gathering friends for a football match and does not refuse a cold beer.\n",
      "When with Dr. Norbert Wiener, he would be seen with his notebook and his glasses.\n",
      "He was outside the house sleeping in a car, waiting for Dr. Norbert Wiener's signal to start working together as they used to do...\n",
      " \n",
      "Ruben, 26 years old, was one of the closest friends of Dr. Norbert Wiener. They were working on an important and confidential project.\n",
      "You can recognize him from afar, he's always wearing dazzling glasses with a leather jacket. He loves drinking wine, listening to some Rock 'n' roll, and playing poker.\n",
      "He arrived just after the discovery of the body.\n",
      " \n",
      "Oeendrila, 57 years old, was Dr. Norbert Wiener's new girlfriend. They met a few months ago and shared a passionate relationship with many ups and downs.\n",
      "She's been depressed and has had to take medication. Neighbors heard an argument between them the day before the body was discovered.\n",
      "She is an architect and was responsible for the construction of the Norbert Wiener’s Foundation headquarters.\n",
      "Oeendrila told police that she had gone to a friend's house the night after the argument to take some time for herself and reflect on her relationship.\n",
      "She loves having a shot of vodka after dinner. She's notoriously manic.\n",
      " \n",
      "Charlotte, 27 years old, is Oeendrila's daughter and Dr. Wiener's stepdaughter, passionate about tennis and mystery books.\n",
      "Once a month, she would visit her mother so that both could go hiking in the nearby mountains, packed with homemade sandwiches and snacks.\n",
      "She is the one who called the police when she found the body.\n",
      " \n"
     ]
    }
   ],
   "source": [
    "import time\n",
    "\n",
    "def introduction2(): \n",
    "    time.sleep(2)\n",
    "    print(\" \")\n",
    "    print(\"We arrive in front of the house and all the suspects are there, waiting for us.\")\n",
    "    print(\" \")\n",
    "    time.sleep(2)\n",
    "    print(\"I would suggest you write down some notes in your notebook. Here's what we know about them so far!\")\n",
    "    print(\" \")\n",
    "    time.sleep(2)\n",
    "    print(\"Guilherme is 25 years old and was the assistant of Dr. Norbert Wiener. Neighbors usually spot him running every morning.\")\n",
    "    time.sleep(2)\n",
    "    print(\"Every two weeks, he enjoys gathering friends for a football match and does not refuse a cold beer.\")\n",
    "    time.sleep(2)\n",
    "    print(\"When with Dr. Norbert Wiener, he would be seen with his notebook and his glasses.\")\n",
    "    time.sleep(2)\n",
    "    print(\"He was outside the house sleeping in a car, waiting for Dr. Norbert Wiener's signal to start working together as they used to do...\")\n",
    "    print(\" \")\n",
    "    time.sleep(2)\n",
    "    print(\"Ruben, 26 years old, was one of the closest friends of Dr. Norbert Wiener. They were working on an important and confidential project.\")\n",
    "    time.sleep(2)\n",
    "    print(\"You can recognize him from afar, he's always wearing dazzling glasses with a leather jacket. He loves drinking wine, listening to some Rock 'n' roll, and playing poker.\")\n",
    "    time.sleep(2)\n",
    "    print(\"He arrived just after the discovery of the body.\")\n",
    "    print(\" \")\n",
    "    time.sleep(2)\n",
    "    print(\"Oeendrila, 57 years old, was Dr. Norbert Wiener's new girlfriend. They met a few months ago and shared a passionate relationship with many ups and downs.\")\n",
    "    time.sleep(2)\n",
    "    print(\"She's been depressed and has had to take medication. Neighbors heard an argument between them the day before the body was discovered.\")\n",
    "    time.sleep(2)\n",
    "    print(\"She is an architect and was responsible for the construction of the Norbert Wiener’s Foundation headquarters.\")\n",
    "    time.sleep(2)\n",
    "    print(\"Oeendrila told police that she had gone to a friend's house the night after the argument to take some time for herself and reflect on her relationship.\")\n",
    "    time.sleep(2)\n",
    "    print(\"She loves having a shot of vodka after dinner. She's notoriously manic.\")\n",
    "    print(\" \")\n",
    "    time.sleep(2)\n",
    "    print(\"Charlotte, 27 years old, is Oeendrila's daughter and Dr. Wiener's stepdaughter, passionate about tennis and mystery books.\")\n",
    "    time.sleep(2)\n",
    "    print(\"Once a month, she would visit her mother so that both could go hiking in the nearby mountains, packed with homemade sandwiches and snacks.\")\n",
    "    time.sleep(2)\n",
    "    print(\"She is the one who called the police when she found the body.\")\n",
    "    print(\" \")\n",
    "\n",
    "# Appelle la fonction pour exécuter le code\n",
    "introduction2()\n"
   ]
  }
 ],
 "metadata": {
  "kernelspec": {
   "display_name": "Python 3 (ipykernel)",
   "language": "python",
   "name": "python3"
  },
  "language_info": {
   "codemirror_mode": {
    "name": "ipython",
    "version": 3
   },
   "file_extension": ".py",
   "mimetype": "text/x-python",
   "name": "python",
   "nbconvert_exporter": "python",
   "pygments_lexer": "ipython3",
   "version": "3.12.4"
  }
 },
 "nbformat": 4,
 "nbformat_minor": 5
}
