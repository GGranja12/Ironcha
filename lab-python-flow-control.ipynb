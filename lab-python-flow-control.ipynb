{
 "cells": [
  {
   "cell_type": "markdown",
   "id": "d3bfc191-8885-42ee-b0a0-bbab867c6f9f",
   "metadata": {
    "tags": []
   },
   "source": [
    "# Lab | Flow Control"
   ]
  },
  {
   "cell_type": "markdown",
   "id": "3851fcd1-cf98-4653-9c89-e003b7ec9400",
   "metadata": {},
   "source": [
    "## Exercise: Managing Customer Orders Optimized\n",
    "\n",
    "In the last lab, you were starting an online store that sells various products. To ensure smooth operations, you developed a program that manages customer orders and inventory.\n",
    "\n",
    "You did so without using flow control. Let's go a step further and improve this code.\n",
    "\n",
    "Follow the steps below to complete the exercise:\n",
    "\n",
    "1. Look at your code from the lab data structures, and improve repeated code with loops.\n",
    "\n",
    "2. Instead of asking the user to input the name of three products that a customer wants to order, do the following:\n",
    "    \n",
    "    a. Prompt the user to enter the name of a product that a customer wants to order.\n",
    "    \n",
    "    b. Add the product name to the \"customer_orders\" set.\n",
    "    \n",
    "    c. Ask the user if they want to add another product (yes/no).\n",
    "    \n",
    "    d. Continue the loop until the user does not want to add another product.\n",
    "\n",
    "3. Instead of updating the inventory by subtracting 1 from the quantity of each product, only do it for  the products that were ordered (those in \"customer_orders\")."
   ]
  },
  {
   "cell_type": "code",
   "execution_count": 5,
   "id": "71585da4-a4ad-4668-b159-23d591c7bcf9",
   "metadata": {},
   "outputs": [
    {
     "name": "stdin",
     "output_type": "stream",
     "text": [
      "Enter the name of a product you want to order:  hat\n"
     ]
    },
    {
     "name": "stdout",
     "output_type": "stream",
     "text": [
      "'hat' has been added to your order.\n"
     ]
    },
    {
     "name": "stdin",
     "output_type": "stream",
     "text": [
      "Do you want to add another product? (yes/no):  no\n"
     ]
    },
    {
     "name": "stdout",
     "output_type": "stream",
     "text": [
      "\n",
      "Your final order contains:\n",
      "- hat\n",
      "\n",
      "Updated inventory:\n",
      "t-shirt: 10 available\n",
      "mug: 5 available\n",
      "hat: 6 available\n",
      "book: 3 available\n",
      "keychain: 15 available\n"
     ]
    }
   ],
   "source": [
    "# Available products \n",
    "inventory = {\n",
    "    \"t-shirt\": 10,\n",
    "    \"mug\": 5,\n",
    "    \"hat\": 7,\n",
    "    \"book\": 3,\n",
    "    \"keychain\": 15\n",
    "}\n",
    "\n",
    "# Empty set \n",
    "customer_orders = set()\n",
    "\n",
    "while True:\n",
    "    product = input(\"Enter the name of a product you want to order: \").lower().strip()\n",
    "    \n",
    "    # Check if the product is available \n",
    "    if product in inventory and inventory[product] > 0:\n",
    "        customer_orders.add(product)\n",
    "        print(f\"'{product}' has been added to your order.\")\n",
    "    else:\n",
    "        print(f\"Sorry, '{product}' is not available or out of stock.\")\n",
    "    \n",
    "    # Ask whether the user wants to add another product or not\n",
    "    another = input(\"Do you want to add another product? (yes/no): \").lower().strip()\n",
    "    if another == 'no':\n",
    "        break\n",
    "\n",
    "# Update inventory \n",
    "for product in customer_orders:\n",
    "    if inventory[product] > 0:\n",
    "        inventory[product] -= 1\n",
    "\n",
    "# Final order \n",
    "print(\"\\nYour final order contains:\")\n",
    "for product in customer_orders:\n",
    "    print(f\"- {product}\")\n",
    "\n",
    "print(\"\\nUpdated inventory:\")\n",
    "for product, quantity in inventory.items():\n",
    "    print(f\"{product}: {quantity} available\")\n",
    "\n",
    "    "
   ]
  },
  {
   "cell_type": "code",
   "execution_count": null,
   "id": "7406191f-14d4-4790-8680-7b4f2b48f89e",
   "metadata": {},
   "outputs": [],
   "source": []
  }
 ],
 "metadata": {
  "kernelspec": {
   "display_name": "Python 3 (ipykernel)",
   "language": "python",
   "name": "python3"
  },
  "language_info": {
   "codemirror_mode": {
    "name": "ipython",
    "version": 3
   },
   "file_extension": ".py",
   "mimetype": "text/x-python",
   "name": "python",
   "nbconvert_exporter": "python",
   "pygments_lexer": "ipython3",
   "version": "3.12.4"
  }
 },
 "nbformat": 4,
 "nbformat_minor": 5
}
