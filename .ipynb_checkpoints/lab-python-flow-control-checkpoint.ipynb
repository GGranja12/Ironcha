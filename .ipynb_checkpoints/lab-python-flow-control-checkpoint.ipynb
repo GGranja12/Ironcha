{
 "cells": [
  {
   "cell_type": "markdown",
   "id": "d3bfc191-8885-42ee-b0a0-bbab867c6f9f",
   "metadata": {
    "tags": []
   },
   "source": [
    "# Lab | Flow Control"
   ]
  },
  {
   "cell_type": "markdown",
   "id": "3851fcd1-cf98-4653-9c89-e003b7ec9400",
   "metadata": {},
   "source": [
    "## Exercise: Managing Customer Orders Optimized\n",
    "\n",
    "In the last lab, you were starting an online store that sells various products. To ensure smooth operations, you developed a program that manages customer orders and inventory.\n",
    "\n",
    "You did so without using flow control. Let's go a step further and improve this code.\n",
    "\n",
    "Follow the steps below to complete the exercise:\n",
    "\n",
    "1. Look at your code from the lab data structures, and improve repeated code with loops.\n",
    "\n",
    "2. Instead of asking the user to input the name of three products that a customer wants to order, do the following:\n",
    "    \n",
    "    a. Prompt the user to enter the name of a product that a customer wants to order.\n",
    "    \n",
    "    b. Add the product name to the \"customer_orders\" set.\n",
    "    \n",
    "    c. Ask the user if they want to add another product (yes/no).\n",
    "    \n",
    "    d. Continue the loop until the user does not want to add another product.\n",
    "\n",
    "3. Instead of updating the inventory by subtracting 1 from the quantity of each product, only do it for  the products that were ordered (those in \"customer_orders\")."
   ]
  },
  {
   "cell_type": "code",
   "execution_count": null,
   "id": "87a111d3-5e5a-4dbb-b4c3-9a862e6572b5",
   "metadata": {},
   "outputs": [],
   "source": [
    "# Define available products\n",
    "available_products = {\"t-shirt\", \"mug\", \"hat\", \"book\", \"keychain\"}\n",
    "\n",
    "# Initialize an empty set to store customer orders\n",
    "customer_orders = set()\n",
    "\n",
    "print(\"Available products: t-shirt, mug, hat, book, keychain\")\n",
    "\n",
    "# Loop to get 3 valid product names from the user\n",
    "while len(customer_orders) < 3:\n",
    "    # Get user input\n",
    "    user_input = input(\"Enter the name(s) of a product you want to order among: t-shirt, mug, hat, book, keychain: \").lower().strip()\n",
    "\n",
    "    #The lower() method in Python is used to convert all the characters in a string to lowercase.\n",
    "  #strip() removes white spaces (or specific characters) from a string.\n",
    "    \n",
    "    # Split the input into individual product names\n",
    "    products = user_input.split()\n",
    "    \n",
    "    if not products:\n",
    "        print(\"No product entered. Please enter a product.\")\n",
    "        continue\n",
    "    \n",
    "    for product in products:\n",
    "        # Check if the product is in available products\n",
    "        if product in available_products:\n",
    "            if product in customer_orders:\n",
    "                print(f\"'{product}' has already been added to your order.\")\n",
    "            else:\n",
    "                customer_orders.add(product)\n",
    "                print(f\"'{product}' has been added to your order.\")\n",
    "        else:\n",
    "            print(f\"'{product}' is not a valid product. Please choose from the list.\")\n",
    "        \n",
    "        # Break if 3 unique products have been added\n",
    "        if len(customer_orders) >= 3:\n",
    "            break\n"
   ]
  }
 ],
 "metadata": {
  "kernelspec": {
   "display_name": "Python 3 (ipykernel)",
   "language": "python",
   "name": "python3"
  },
  "language_info": {
   "codemirror_mode": {
    "name": "ipython",
    "version": 3
   },
   "file_extension": ".py",
   "mimetype": "text/x-python",
   "name": "python",
   "nbconvert_exporter": "python",
   "pygments_lexer": "ipython3",
   "version": "3.12.4"
  }
 },
 "nbformat": 4,
 "nbformat_minor": 5
}
