{
 "cells": [
  {
   "cell_type": "markdown",
   "id": "25d7736c-ba17-4aff-b6bb-66eba20fbf4e",
   "metadata": {
    "id": "25d7736c-ba17-4aff-b6bb-66eba20fbf4e"
   },
   "source": [
    "# Lab | Functions"
   ]
  },
  {
   "cell_type": "markdown",
   "id": "0c581062-8967-4d93-b06e-62833222f930",
   "metadata": {
    "id": "0c581062-8967-4d93-b06e-62833222f930",
    "tags": []
   },
   "source": [
    "## Exercise: Managing Customer Orders with Functions\n",
    "\n",
    "In the previous exercise, you improved the code for managing customer orders by using loops and flow control. Now, let's take it a step further and refactor the code by introducing functions.\n",
    "\n",
    "Follow the steps below to complete the exercise:\n",
    "\n",
    "1. Define a function named `initialize_inventory` that takes `products` as a parameter. Inside the function, implement the code for initializing the inventory dictionary using a loop and user input.\n",
    "\n",
    "2. Define a function named `get_customer_orders` that takes no parameters. Inside the function, implement the code for prompting the user to enter the product names using a loop. The function should return the `customer_orders` set.\n",
    "\n",
    "3. Define a function named `update_inventory` that takes `customer_orders` and `inventory` as parameters. Inside the function, implement the code for updating the inventory dictionary based on the customer orders.\n",
    "\n",
    "4. Define a function named `calculate_order_statistics` that takes `customer_orders` and `products` as parameters. Inside the function, implement the code for calculating the order statistics (total products ordered, and percentage of unique products ordered). The function should return these values.\n",
    "\n",
    "5. Define a function named `print_order_statistics` that takes `order_statistics` as a parameter. Inside the function, implement the code for printing the order statistics.\n",
    "\n",
    "6. Define a function named `print_updated_inventory` that takes `inventory` as a parameter. Inside the function, implement the code for printing the updated inventory.\n",
    "\n",
    "7. Call the functions in the appropriate sequence to execute the program and manage customer orders.\n",
    "\n",
    "Hints for functions:\n",
    "\n",
    "- Consider the input parameters required for each function and their return values.\n",
    "- Utilize function parameters and return values to transfer data between functions.\n",
    "- Test your functions individually to ensure they work correctly.\n",
    "\n",
    "\n"
   ]
  },
  {
   "cell_type": "code",
   "execution_count": 15,
   "id": "4x0BJRgDk28H",
   "metadata": {
    "colab": {
     "base_uri": "https://localhost:8080/"
    },
    "executionInfo": {
     "elapsed": 268,
     "status": "ok",
     "timestamp": 1725898693369,
     "user": {
      "displayName": "Eleena Barska",
      "userId": "15646562040249930063"
     },
     "user_tz": -120
    },
    "id": "4x0BJRgDk28H",
    "outputId": "93188d03-f3aa-40e5-e457-97983c4cc4fc"
   },
   "outputs": [
    {
     "name": "stdout",
     "output_type": "stream",
     "text": [
      "product_1 2\n",
      "product_2 12\n",
      "product_3 22\n"
     ]
    }
   ],
   "source": [
    "for key, value  in zip(orders.keys(), orders.values()):\n",
    "  print(key, value)"
   ]
  },
  {
   "cell_type": "code",
   "execution_count": null,
   "id": "tQKROHL7kyJZ",
   "metadata": {
    "id": "tQKROHL7kyJZ"
   },
   "outputs": [],
   "source": [
    "for i in orders.items():\n",
    "  print(i[0], i[1])"
   ]
  },
  {
   "cell_type": "code",
   "execution_count": 25,
   "id": "HBNmyyJyoRtm",
   "metadata": {
    "executionInfo": {
     "elapsed": 276,
     "status": "ok",
     "timestamp": 1725899690440,
     "user": {
      "displayName": "Eleena Barska",
      "userId": "15646562040249930063"
     },
     "user_tz": -120
    },
    "id": "HBNmyyJyoRtm"
   },
   "outputs": [],
   "source": [
    "def calc(h, j):\n",
    "  return h + j - 20"
   ]
  },
  {
   "cell_type": "code",
   "execution_count": 28,
   "id": "xWEiTFQLo1GO",
   "metadata": {
    "colab": {
     "base_uri": "https://localhost:8080/"
    },
    "executionInfo": {
     "elapsed": 372,
     "status": "ok",
     "timestamp": 1725899736641,
     "user": {
      "displayName": "Eleena Barska",
      "userId": "15646562040249930063"
     },
     "user_tz": -120
    },
    "id": "xWEiTFQLo1GO",
    "outputId": "d9822a3c-a4da-40a9-9fbb-5b5fd6fbb8e7"
   },
   "outputs": [
    {
     "data": {
      "text/plain": [
       "76889"
      ]
     },
     "execution_count": 28,
     "metadata": {},
     "output_type": "execute_result"
    }
   ],
   "source": [
    "j = 342\n",
    "calc(76567, j)"
   ]
  },
  {
   "cell_type": "code",
   "execution_count": 24,
   "id": "iIuXyT3qoRwR",
   "metadata": {
    "colab": {
     "base_uri": "https://localhost:8080/"
    },
    "executionInfo": {
     "elapsed": 3,
     "status": "ok",
     "timestamp": 1725899623131,
     "user": {
      "displayName": "Eleena Barska",
      "userId": "15646562040249930063"
     },
     "user_tz": -120
    },
    "id": "iIuXyT3qoRwR",
    "outputId": "c5f1095b-71b6-4a90-c5f4-a8c03f5a3155"
   },
   "outputs": [
    {
     "data": {
      "text/plain": [
       "77"
      ]
     },
     "execution_count": 24,
     "metadata": {},
     "output_type": "execute_result"
    }
   ],
   "source": [
    "def calc(x, y):\n",
    "  return x + y - 20\n",
    "\n",
    "x = 30\n",
    "y = 67\n",
    "calc(x, y)\n",
    "calc(20, 40)\n",
    "calc(x+12, y**2)"
   ]
  },
  {
   "cell_type": "code",
   "execution_count": 21,
   "id": "s4PabfgSiMk3",
   "metadata": {
    "executionInfo": {
     "elapsed": 385,
     "status": "ok",
     "timestamp": 1725899046990,
     "user": {
      "displayName": "Eleena Barska",
      "userId": "15646562040249930063"
     },
     "user_tz": -120
    },
    "id": "s4PabfgSiMk3"
   },
   "outputs": [],
   "source": [
    "def print_orders(param_1): # The good way. param_1 can be different as a name of the dictionary\n",
    "  for i in param_1.keys():\n",
    "    print(i, param_1[i])\n",
    "\n",
    "df = {\"sfsf\": 0}\n",
    "def print_orders(): # Bad way, because after you can be lost with your variables (when you're modifying them)\n",
    "  for i in orders.keys():\n",
    "    print(i, orders[i])"
   ]
  },
  {
   "cell_type": "code",
   "execution_count": 22,
   "id": "B8-5TOLBiMnK",
   "metadata": {
    "colab": {
     "base_uri": "https://localhost:8080/"
    },
    "executionInfo": {
     "elapsed": 249,
     "status": "ok",
     "timestamp": 1725899048264,
     "user": {
      "displayName": "Eleena Barska",
      "userId": "15646562040249930063"
     },
     "user_tz": -120
    },
    "id": "B8-5TOLBiMnK",
    "outputId": "00002cb9-9e4f-4126-f128-366e1414c619"
   },
   "outputs": [
    {
     "name": "stdout",
     "output_type": "stream",
     "text": [
      "product_1 2\n",
      "product_2 12\n",
      "product_3 22\n"
     ]
    }
   ],
   "source": [
    "print_orders()"
   ]
  },
  {
   "cell_type": "code",
   "execution_count": 33,
   "id": "y4RcaQxJiMpc",
   "metadata": {
    "executionInfo": {
     "elapsed": 360,
     "status": "ok",
     "timestamp": 1725900176369,
     "user": {
      "displayName": "Eleena Barska",
      "userId": "15646562040249930063"
     },
     "user_tz": -120
    },
    "id": "y4RcaQxJiMpc"
   },
   "outputs": [],
   "source": [
    "def print_orders(param_1): # The good way. param_1 can be different as a name of the dictionary\n",
    "  for i in param_1.keys():\n",
    "    print(i, param_1[i])\n",
    "    print(\"-------\")"
   ]
  },
  {
   "cell_type": "code",
   "execution_count": 35,
   "id": "6_1MgiuCiMfi",
   "metadata": {
    "executionInfo": {
     "elapsed": 383,
     "status": "ok",
     "timestamp": 1725900262952,
     "user": {
      "displayName": "Eleena Barska",
      "userId": "15646562040249930063"
     },
     "user_tz": -120
    },
    "id": "6_1MgiuCiMfi"
   },
   "outputs": [],
   "source": [
    "orders = {\n",
    "    \"product_1\": 2,\n",
    "    \"product_2\": 12,\n",
    "    \"product_3\": 22,\n",
    "}\n",
    "\n",
    "orders_2 = {\n",
    "    \"product_1\": 2,\n",
    "    \"product_2\": 3323,\n",
    "    \"product_3\": 122321,\n",
    "}"
   ]
  },
  {
   "cell_type": "code",
   "execution_count": 37,
   "id": "2FzLFGfEiMsE",
   "metadata": {
    "colab": {
     "base_uri": "https://localhost:8080/"
    },
    "executionInfo": {
     "elapsed": 279,
     "status": "ok",
     "timestamp": 1725900284182,
     "user": {
      "displayName": "Eleena Barska",
      "userId": "15646562040249930063"
     },
     "user_tz": -120
    },
    "id": "2FzLFGfEiMsE",
    "outputId": "7a18ebdc-c6ac-41f4-9a22-6c727c61de3d"
   },
   "outputs": [
    {
     "name": "stdout",
     "output_type": "stream",
     "text": [
      "product_1 2\n",
      "-------\n",
      "product_2 12\n",
      "-------\n",
      "product_3 22\n",
      "-------\n"
     ]
    }
   ],
   "source": [
    "print_orders(orders)"
   ]
  },
  {
   "cell_type": "code",
   "execution_count": 38,
   "id": "4Ti_6oqPiMuT",
   "metadata": {
    "colab": {
     "base_uri": "https://localhost:8080/"
    },
    "executionInfo": {
     "elapsed": 2,
     "status": "ok",
     "timestamp": 1725900287065,
     "user": {
      "displayName": "Eleena Barska",
      "userId": "15646562040249930063"
     },
     "user_tz": -120
    },
    "id": "4Ti_6oqPiMuT",
    "outputId": "d4971331-3f41-40a3-a956-ffe3aa77ada6"
   },
   "outputs": [
    {
     "name": "stdout",
     "output_type": "stream",
     "text": [
      "product_1 2\n",
      "-------\n",
      "product_2 3323\n",
      "-------\n",
      "product_3 122321\n",
      "-------\n"
     ]
    }
   ],
   "source": [
    "print_orders(orders_2)"
   ]
  },
  {
   "cell_type": "code",
   "execution_count": 39,
   "id": "KO7vJDSErSj3",
   "metadata": {
    "colab": {
     "base_uri": "https://localhost:8080/"
    },
    "executionInfo": {
     "elapsed": 4,
     "status": "ok",
     "timestamp": 1725900338249,
     "user": {
      "displayName": "Eleena Barska",
      "userId": "15646562040249930063"
     },
     "user_tz": -120
    },
    "id": "KO7vJDSErSj3",
    "outputId": "6e839553-e290-4ea1-e332-5f7891612bb5"
   },
   "outputs": [
    {
     "name": "stdout",
     "output_type": "stream",
     "text": [
      "{'product_1': 2, 'product_2': 3323, 'product_3': 122321}\n"
     ]
    }
   ],
   "source": [
    "print(orders_2)"
   ]
  },
  {
   "cell_type": "code",
   "execution_count": null,
   "id": "qzcU7fdAiMw0",
   "metadata": {
    "id": "qzcU7fdAiMw0"
   },
   "outputs": [],
   "source": []
  },
  {
   "cell_type": "code",
   "execution_count": null,
   "id": "vBCqP4q7S6Lc",
   "metadata": {
    "id": "vBCqP4q7S6Lc"
   },
   "outputs": [],
   "source": [
    "a, b, c = None, None, None"
   ]
  },
  {
   "cell_type": "code",
   "execution_count": null,
   "id": "3jBIMOtLTeUQ",
   "metadata": {
    "id": "3jBIMOtLTeUQ"
   },
   "outputs": [],
   "source": [
    "stop = \"h\""
   ]
  },
  {
   "cell_type": "code",
   "execution_count": null,
   "id": "qTks1YlQTc95",
   "metadata": {
    "colab": {
     "base_uri": "https://localhost:8080/"
    },
    "executionInfo": {
     "elapsed": 244,
     "status": "ok",
     "timestamp": 1725810354858,
     "user": {
      "displayName": "Eleena Barska",
      "userId": "15646562040249930063"
     },
     "user_tz": -120
    },
    "id": "qTks1YlQTc95",
    "outputId": "dd54fb60-9783-440b-d34e-3e268eec58ed"
   },
   "outputs": [
    {
     "data": {
      "text/plain": [
       "(True, False, True, True, False, False)"
      ]
     },
     "execution_count": 12,
     "metadata": {},
     "output_type": "execute_result"
    }
   ],
   "source": [
    "i = 0\n",
    "stop == \"h\", i > 3, i < 3,  i <= 3, i >= 3, i in [3, 4, 4]"
   ]
  },
  {
   "cell_type": "code",
   "execution_count": null,
   "id": "Um9XCHOqPUbC",
   "metadata": {
    "id": "Um9XCHOqPUbC"
   },
   "outputs": [],
   "source": [
    "def get_customer_orders():\n",
    "  customer_orders = []\n",
    "\n",
    "  while True:\n",
    "    user_product = input(\"Enter the product name:\")\n",
    "    customer_orders.append(user_product)\n",
    "    user_answer = input(\"Do you want to add an another product? (yes/no)\")\n",
    "\n",
    "    if user_answer == \"no\":\n",
    "      break\n",
    "  return set(customer_orders)"
   ]
  },
  {
   "cell_type": "code",
   "execution_count": null,
   "id": "oFHOZ3y4RmTo",
   "metadata": {
    "colab": {
     "base_uri": "https://localhost:8080/"
    },
    "executionInfo": {
     "elapsed": 230,
     "status": "ok",
     "timestamp": 1725809856161,
     "user": {
      "displayName": "Eleena Barska",
      "userId": "15646562040249930063"
     },
     "user_tz": -120
    },
    "id": "oFHOZ3y4RmTo",
    "outputId": "e417ee87-9b01-42ef-ae73-d2457fcd5623"
   },
   "outputs": [
    {
     "name": "stdout",
     "output_type": "stream",
     "text": [
      "1\n",
      "2\n",
      "3\n",
      "4\n",
      "5\n"
     ]
    }
   ],
   "source": [
    "i = 0\n",
    "\n",
    "while i < 5:\n",
    "  i += 1\n",
    "  print(i)"
   ]
  },
  {
   "cell_type": "code",
   "execution_count": null,
   "id": "su7dsChASNxE",
   "metadata": {
    "id": "su7dsChASNxE"
   },
   "outputs": [],
   "source": [
    "1: i = 1\n",
    "2: i = 2"
   ]
  },
  {
   "cell_type": "code",
   "execution_count": null,
   "id": "dkpHFTj0QD4s",
   "metadata": {
    "colab": {
     "base_uri": "https://localhost:8080/"
    },
    "executionInfo": {
     "elapsed": 255,
     "status": "ok",
     "timestamp": 1725809353445,
     "user": {
      "displayName": "Eleena Barska",
      "userId": "15646562040249930063"
     },
     "user_tz": -120
    },
    "id": "dkpHFTj0QD4s",
    "outputId": "904a9838-94b2-41ad-9f2f-cc00df44f96f"
   },
   "outputs": [
    {
     "name": "stdout",
     "output_type": "stream",
     "text": [
      "0\n",
      "1\n",
      "2\n"
     ]
    }
   ],
   "source": [
    "df = [0, 1, 2, \"hello\"]\n",
    "\n",
    "for i in df:\n",
    "  print(i)"
   ]
  },
  {
   "cell_type": "code",
   "execution_count": null,
   "id": "2GtD_Y1hPyqz",
   "metadata": {
    "colab": {
     "base_uri": "https://localhost:8080/"
    },
    "executionInfo": {
     "elapsed": 11649,
     "status": "ok",
     "timestamp": 1725810576432,
     "user": {
      "displayName": "Eleena Barska",
      "userId": "15646562040249930063"
     },
     "user_tz": -120
    },
    "id": "2GtD_Y1hPyqz",
    "outputId": "670f20cf-1b9a-488d-b755-68feb6e4fedf"
   },
   "outputs": [
    {
     "name": "stdout",
     "output_type": "stream",
     "text": [
      "Enter the product name:ggg\n",
      "Do you want to add an another product? (yes/no)yes\n",
      "Enter the product name:dfffd\n",
      "Do you want to add an another product? (yes/no)yes\n",
      "Enter the product name:dgdg\n",
      "Do you want to add an another product? (yes/no)no\n"
     ]
    },
    {
     "data": {
      "text/plain": [
       "{'dfffd', 'dgdg', 'ggg'}"
      ]
     },
     "execution_count": 14,
     "metadata": {},
     "output_type": "execute_result"
    }
   ],
   "source": [
    "get_customer_orders()"
   ]
  },
  {
   "cell_type": "code",
   "execution_count": null,
   "id": "BEmuluMePzJA",
   "metadata": {
    "id": "BEmuluMePzJA"
   },
   "outputs": [],
   "source": []
  },
  {
   "cell_type": "code",
   "execution_count": null,
   "id": "IEkKB1DbPzLC",
   "metadata": {
    "id": "IEkKB1DbPzLC"
   },
   "outputs": [],
   "source": []
  },
  {
   "cell_type": "code",
   "execution_count": null,
   "id": "313da53a-f585-4863-8c35-c8175e582bb8",
   "metadata": {
    "id": "313da53a-f585-4863-8c35-c8175e582bb8"
   },
   "outputs": [],
   "source": [
    "# Available products\n",
    "initialize_inventory = {\n",
    "    \"t-shirt\": 10,\n",
    "    \"mug\": 5,\n",
    "    \"hat\": 7,\n",
    "    \"book\": 3,\n",
    "    \"keychain\": 15\n",
    "}"
   ]
  },
  {
   "cell_type": "code",
   "execution_count": 2,
   "id": "hVPEgQLKSghA",
   "metadata": {
    "colab": {
     "base_uri": "https://localhost:8080/"
    },
    "executionInfo": {
     "elapsed": 24280,
     "status": "ok",
     "timestamp": 1725893865795,
     "user": {
      "displayName": "Eleena Barska",
      "userId": "15646562040249930063"
     },
     "user_tz": -120
    },
    "id": "hVPEgQLKSghA",
    "outputId": "11bcbe94-88b0-4372-fa65-74436425b8b0"
   },
   "outputs": [
    {
     "name": "stdout",
     "output_type": "stream",
     "text": [
      "Enter the quantity for t-shirt: 10\n",
      "Enter the quantity for mug: 5\n",
      "Enter the quantity for hat: 7\n",
      "Enter the quantity for book: 3\n",
      "Enter the quantity for keychain: 15\n",
      "Write a product name to order (or 'stop' to finish): hat\n",
      "Write a product name to order (or 'stop' to finish): book\n",
      "Write a product name to order (or 'stop' to finish): stop\n",
      "\n",
      "Total products ordered: 2\n",
      "Percentage of unique products ordered: 40.00%\n",
      "\n",
      "Updated Inventory:\n",
      "t-shirt: 10\n",
      "mug: 5\n",
      "hat: 6\n",
      "book: 2\n",
      "keychain: 15\n"
     ]
    }
   ],
   "source": [
    "main()"
   ]
  },
  {
   "cell_type": "code",
   "execution_count": 1,
   "id": "1076a866-9d78-4eba-b267-000dbb823ff0",
   "metadata": {
    "executionInfo": {
     "elapsed": 279,
     "status": "ok",
     "timestamp": 1725893835587,
     "user": {
      "displayName": "Eleena Barska",
      "userId": "15646562040249930063"
     },
     "user_tz": -120
    },
    "id": "1076a866-9d78-4eba-b267-000dbb823ff0"
   },
   "outputs": [],
   "source": [
    "def initialize_inventory(products):\n",
    "    inventory = {}\n",
    "    for product in products:\n",
    "        quantity = int(input(f\"Enter the quantity for {product}: \"))\n",
    "        inventory[product] = quantity\n",
    "    return inventory\n",
    "\n",
    "def get_customer_orders():\n",
    "    customer_orders = set()\n",
    "    while True:\n",
    "        order = str(input(\"Write a product name to order (or 'stop' to finish): \"))\n",
    "        if order.lower() == 'stop':\n",
    "            break\n",
    "        customer_orders.add(order)\n",
    "    return customer_orders\n",
    "\n",
    "def update_inventory(customer_orders, inventory):\n",
    "    for order in customer_orders:\n",
    "        if order in inventory and inventory[order] > 0:\n",
    "            inventory[order] -= 1\n",
    "        else:\n",
    "            print(f\"{order} is out of stock or not avaiable.\")\n",
    "    return inventory\n",
    "\n",
    "def calculate_order_statistics(customer_orders, products):\n",
    "    total_products_ordered = len(customer_orders)\n",
    "    unique_products_ordered = len(customer_orders)\n",
    "    percentage_unique_ordered = (unique_products_ordered / len(products)) * 100\n",
    "    return total_products_ordered, percentage_unique_ordered\n",
    "\n",
    "def print_order_statistics(order_statistics):\n",
    "    total_products_ordered, percentage_unique_ordered = order_statistics\n",
    "    print(f\"Total products ordered: {total_products_ordered}\")\n",
    "    print(f\"Percentage of unique products ordered: {percentage_unique_ordered:.2f}%\")\n",
    "\n",
    "def print_updated_inventory(inventory):\n",
    "    print(\"Updated Inventory:\")\n",
    "    for product, quantity in inventory.items():\n",
    "        print(f\"{product}: {quantity}\")\n",
    "\n",
    "def main():\n",
    "    products = [\"t-shirt\", \"mug\", \"hat\", \"book\", \"keychain\"]\n",
    "    inventory = initialize_inventory(products)\n",
    "    customer_orders = get_customer_orders()\n",
    "    inventory = update_inventory(customer_orders, inventory)\n",
    "    order_statistics = calculate_order_statistics(customer_orders, products)\n",
    "    print_order_statistics(order_statistics)\n",
    "    print_updated_inventory(inventory)\n",
    "\n"
   ]
  },
  {
   "cell_type": "code",
   "execution_count": 40,
   "id": "IALER8WsrqnH",
   "metadata": {
    "colab": {
     "base_uri": "https://localhost:8080/"
    },
    "executionInfo": {
     "elapsed": 10602,
     "status": "ok",
     "timestamp": 1725900503978,
     "user": {
      "displayName": "Eleena Barska",
      "userId": "15646562040249930063"
     },
     "user_tz": -120
    },
    "id": "IALER8WsrqnH",
    "outputId": "259757f5-277a-458b-bd5e-10a2c2e13231"
   },
   "outputs": [
    {
     "name": "stdout",
     "output_type": "stream",
     "text": [
      "Enter the quantity for t-shirt: 10\n",
      "Enter the quantity for mug: 7\n",
      "Enter the quantity for hat: 6\n",
      "Enter the quantity for book: 20\n",
      "Enter the quantity for keychain: 3\n"
     ]
    }
   ],
   "source": [
    "products = [\"t-shirt\", \"mug\", \"hat\", \"book\", \"keychain\"]\n",
    "inventory = initialize_inventory(products)"
   ]
  },
  {
   "cell_type": "code",
   "execution_count": 42,
   "id": "9scc3vT3r6PK",
   "metadata": {
    "colab": {
     "base_uri": "https://localhost:8080/"
    },
    "executionInfo": {
     "elapsed": 14986,
     "status": "ok",
     "timestamp": 1725900565883,
     "user": {
      "displayName": "Eleena Barska",
      "userId": "15646562040249930063"
     },
     "user_tz": -120
    },
    "id": "9scc3vT3r6PK",
    "outputId": "6c960802-4f42-44e1-9779-ee43633afe46"
   },
   "outputs": [
    {
     "name": "stdout",
     "output_type": "stream",
     "text": [
      "Write a product name to order (or 'stop' to finish): hat\n",
      "Write a product name to order (or 'stop' to finish): hat\n",
      "Write a product name to order (or 'stop' to finish): book\n",
      "Write a product name to order (or 'stop' to finish): stop\n"
     ]
    }
   ],
   "source": [
    "customer_orders = get_customer_orders()"
   ]
  },
  {
   "cell_type": "code",
   "execution_count": 44,
   "id": "KjA8gTgCsLpj",
   "metadata": {
    "executionInfo": {
     "elapsed": 766,
     "status": "ok",
     "timestamp": 1725900723806,
     "user": {
      "displayName": "Eleena Barska",
      "userId": "15646562040249930063"
     },
     "user_tz": -120
    },
    "id": "KjA8gTgCsLpj"
   },
   "outputs": [],
   "source": [
    "inventory = update_inventory(customer_orders, inventory)"
   ]
  },
  {
   "cell_type": "code",
   "execution_count": 46,
   "id": "AfWOFLHCsxn2",
   "metadata": {
    "executionInfo": {
     "elapsed": 351,
     "status": "ok",
     "timestamp": 1725900754699,
     "user": {
      "displayName": "Eleena Barska",
      "userId": "15646562040249930063"
     },
     "user_tz": -120
    },
    "id": "AfWOFLHCsxn2"
   },
   "outputs": [],
   "source": [
    "order_statistics = calculate_order_statistics(customer_orders, products)"
   ]
  },
  {
   "cell_type": "code",
   "execution_count": 48,
   "id": "rzSQwZlRs5xh",
   "metadata": {
    "colab": {
     "base_uri": "https://localhost:8080/"
    },
    "executionInfo": {
     "elapsed": 409,
     "status": "ok",
     "timestamp": 1725900887725,
     "user": {
      "displayName": "Eleena Barska",
      "userId": "15646562040249930063"
     },
     "user_tz": -120
    },
    "id": "rzSQwZlRs5xh",
    "outputId": "b3945757-2bec-4ccf-b4f1-5897f4a00841"
   },
   "outputs": [
    {
     "name": "stdout",
     "output_type": "stream",
     "text": [
      "\n",
      "Total products ordered: 2\n",
      "Percentage of unique products ordered: 40.00%\n"
     ]
    }
   ],
   "source": [
    "print_order_statistics(order_statistics)"
   ]
  },
  {
   "cell_type": "code",
   "execution_count": 49,
   "id": "ROQieRactc_B",
   "metadata": {
    "colab": {
     "base_uri": "https://localhost:8080/"
    },
    "executionInfo": {
     "elapsed": 242,
     "status": "ok",
     "timestamp": 1725900903689,
     "user": {
      "displayName": "Eleena Barska",
      "userId": "15646562040249930063"
     },
     "user_tz": -120
    },
    "id": "ROQieRactc_B",
    "outputId": "0083fc74-43c6-410f-efd4-87ef062cd1a6"
   },
   "outputs": [
    {
     "name": "stdout",
     "output_type": "stream",
     "text": [
      "\n",
      "Updated Inventory:\n",
      "t-shirt: 10\n",
      "mug: 7\n",
      "hat: 5\n",
      "book: 19\n",
      "keychain: 3\n"
     ]
    }
   ],
   "source": [
    "print_updated_inventory(inventory)"
   ]
  }
 ],
 "metadata": {
  "colab": {
   "provenance": []
  },
  "kernelspec": {
   "display_name": "Python 3 (ipykernel)",
   "language": "python",
   "name": "python3"
  },
  "language_info": {
   "codemirror_mode": {
    "name": "ipython",
    "version": 3
   },
   "file_extension": ".py",
   "mimetype": "text/x-python",
   "name": "python",
   "nbconvert_exporter": "python",
   "pygments_lexer": "ipython3",
   "version": "3.12.2"
  }
 },
 "nbformat": 4,
 "nbformat_minor": 5
}
